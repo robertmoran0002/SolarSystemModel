{
 "cells": [
  {
   "cell_type": "markdown",
   "metadata": {
    "nbgrader": {
     "grade": false,
     "grade_id": "cell-b9cdc3e5ab79d88a",
     "locked": true,
     "schema_version": 1,
     "solution": false
    }
   },
   "source": [
    "# PHYS 2600 - Final Project 2: `gravity`\n",
    "\n",
    "## Motion of Small Objects in the Solar System"
   ]
  },
  {
   "cell_type": "markdown",
   "metadata": {
    "nbgrader": {
     "grade": false,
     "grade_id": "cell-e87b7b210df40bdc",
     "locked": true,
     "schema_version": 1,
     "solution": false
    }
   },
   "source": [
    "This is one possible _final project_; __you must choose one (and only one) project to complete and hand in.__  \n",
    "\n",
    "The deadline for this project is __12:00 midnight (Boulder time) on Monday, December 17.__  Since final grades must be submitted to the university shortly after the end of the exam period, to allow for timely grading _no late submissions will be accepted._\n",
    "\n",
    "You are permitted to discuss the final projects with other students in the class,  including both the physics and computing aspects, but __your submitted project must be entirely your own__; no direct copying of Python code is permitted, and you must write up the presentation in your own words.\n",
    "\n",
    "When you submit your project, you must provide __two (2) files__:\n",
    "\n",
    "* `gravity.py`: a Python module ([see lecture 20](https://physicscourses.colorado.edu/phys2600/phys2600_fa18/lecture/lec20-modules-files/)) which implements the functions listed in the Application Progamming Interface (API) below.\n",
    "* `gravity_presentation.ipynb`: a Jupyter notebook which uses the code from your Python module to answer the physics questions.  Use of Markdown text, MathJax equations, and plots are all encouraged to make your presentation clear and compelling!\n",
    "\n",
    "\n",
    "The rubric for grading will be split 50/50 between the code (in your `.py` module and Jupyter notebook) and the response to the physics questions (provided in `gravity_presentation.ipynb`):\n",
    "* Basic functionality of code (passes provided tests, follows API specification): __30%__\n",
    "* __Six (6)__ additional API tests _you write_ (tests are provided and are correct and useful): __10%__\n",
    "* Documentation of code (docstrings and comments make the code clear): __10%__\n",
    "* Correct and detailed answers to physics questions: __40%__\n",
    "* Quality of presentation (clear and readable, appropriate use of Markdown, equations, and plots): __10%__\n",
    "\n",
    "A _bonus of up to 10%_ is available for the extra-credit \"challenge\" physics question at the end.  (These challenge questions are meant to be really hard!  But partial credit will be awarded if you make some progress on them.)"
   ]
  },
  {
   "cell_type": "markdown",
   "metadata": {
    "nbgrader": {
     "grade": false,
     "grade_id": "cell-1c9e08a010ae587c",
     "locked": true,
     "schema_version": 1,
     "solution": false
    }
   },
   "source": [
    "# Overview\n",
    "\n",
    "The motion of large objects in the solar system is very well understood: Kepler's laws of planetary motion are one of the first applications of the law of gravitation that we all learn in intro physics.  However, we know that gravity becomes complicated quickly: even though the motion of _two_ objects can be solved on pen and paper, the \"three-body problem\" (motion of three massive objects under gravity) already has no analytic solutions.  So tracking a single object (or even several) as it moves through the gravitational field of the solar system is not doable with pen and paper - making it a great candidate for numerical study.\n",
    "\n",
    "For this project, you'll begin by modeling the Sun and the planets of the solar system in their known orbits.  Then, you will write a code which can solve for the motion of a small object through the complex gravity field of the Sun and planets.  The main physics goals will involve looking at incoming asteroids and comets to see if they pose a threat of a collision with the Earth, and studying the motion of 'Oumuamua - the first interstellar object recorded passing through our solar system."
   ]
  },
  {
   "cell_type": "markdown",
   "metadata": {
    "nbgrader": {
     "grade": false,
     "grade_id": "cell-daa342b72701d661",
     "locked": true,
     "schema_version": 1,
     "solution": false
    }
   },
   "source": [
    "\n",
    "# Physics background and important equations\n",
    "\n",
    "Everything starts with the law of gravitation: the force on a small mass $m$ due to large mass $M$ at the origin is\n",
    "\n",
    "$$\n",
    "\\mathbf{F}_g = -\\frac{GmM}{r^3} \\mathbf{r}\n",
    "$$\n",
    "\n",
    "where $\\mathbf{r} = (x,y,z)$ is the position vector of $m$ with respect to $M$, and the minus sign appears since gravity is attractive (so the force is always towards the origin.)  \n",
    "\n",
    "For this project, we'll have multiple sources of gravity to worry about, so this is better written in the more general form (cancelling the mass $m$ out)\n",
    "\n",
    "$$\n",
    "\\ddot{\\mathbf{r}} = -\\frac{GM}{|\\mathbf{r} - \\mathbf{R}|^3} (\\mathbf{r} - \\mathbf{R})\n",
    "$$\n",
    "\n",
    "where $\\mathbf{r}$ is the position vector of the test mass $m$, and $\\mathbf{R}$ is the position vector of the gravity source $M$.  The double dots denote two time derivatives, i.e. $\\ddot{\\mathbf{r}} = d^2 \\mathbf{r} / dt^2$.\n",
    "\n",
    "### Model of the solar system\n",
    "\n",
    "Before we can study the motion of small objects, we need a model for the solar system itself.  Assuming all the planets are much lighter than the Sun, the planets follow elliptical orbits around the Sun of the form\n",
    "\n",
    "$$\n",
    "r(\\phi) = \\frac{a (1 - \\epsilon^2)}{1+\\epsilon \\cos (\\phi - \\omega)}\n",
    "$$\n",
    "where $a$ is the semimajor axis of the orbit, $\\epsilon$ is the eccentricity (how un-circular the orbit is), and $\\phi$ is the orbital phase.  The angle $\\omega$ determines the location of __perihelion__ (closest approach to the Sun), and is different for every planet.  \n",
    "\n",
    "To determine $\\phi$ as a function of time, we just use Kepler's second law, which can be written as\n",
    "\n",
    "$$\n",
    "\\frac{d\\phi}{dt} = \\frac{L_z}{\\mu r^2} \\approx \\frac{\\sqrt{GM_{\\odot} a (1 - \\epsilon^2)}}{r^2}\n",
    "$$\n",
    "\n",
    "where $M_{\\odot}$ is the mass of the Sun,\n",
    "\n",
    "$$\n",
    "M_{\\odot} = 1.9885 \\times 10^{30}\\ {\\rm kg}.\n",
    "$$\n",
    "\n",
    "For non-circular orbits the equation for $d\\phi / dt$ leads to tricky integrals that can't be done in closed form, but we don't care since we're doing numerics: we'll just use this equation directly to update $\\phi$ at each timestep, given the current value of $r$.  Assuming all eight planets are in the same plane (which is a good approximation: Mercury is 7 degrees out of the ecliptic plane, but it's also a small planet!), their coordinates as a function of time are then just\n",
    "\n",
    "$$\n",
    "\\mathbf{R} = (r \\cos \\phi, r \\sin \\phi, 0)\n",
    "$$\n",
    "\n",
    "\n",
    "| planet | mass ($\\times 10^{24}$ kg) |  a (AU) | $\\epsilon$ | $\\omega$ (${}^{\\circ}$) | $\\phi_0$ (${}^{\\circ}$) [11/22/18] |\n",
    "|--------|------|-----|------------|-------------------|-----|\n",
    "| Mercury | 0.330104 | 0.38709843 | 0.20563661 | 77.45771895 | 19.08833658 |\n",
    "| Venus | 4.86732 | 0.72332102 | 0.00676399 | 131.76755713 | 286.68776598 |\n",
    "| Earth | 5.97219 | 1.00000018 | 0.01673163 | 102.93005885 | 331.16416467 |\n",
    "| Mars | 0.641693 | 1.52371243 | 0.09336511 | -23.91744784 | 326.20022408 |\n",
    "| Jupiter | 1898.13 | 5.20248019 | 0.04853590 | 14.27495244 | 242.48991503 |\n",
    "| Saturn | 568.319 | 9.54149883 | 0.05550825 | 92.86136063 | 281.55831164 |\n",
    "| Uranus | 86.8103 | 19.18797948 | 0.04685740 | 172.43404441 | 29.32733579 |\n",
    "| Neptune | 102.41 | 30.06952752 | 0.00895439 | 46.68158724 | 351.14513741 |\n",
    "\n",
    "Orbital parameters are [taken from NASA here](https://ssd.jpl.nasa.gov/txt/aprx_pos_planets.pdf) - see also the machine-readable data table [here](https://ssd.jpl.nasa.gov/txt/p_elem_t2.txt).  Masses are from NASA's [Solar System Exploration site](https://solarsystem.nasa.gov/planet-compare/).  _(Note: I did some coordinate conversions myself to put this into our coordinate system.  No warranty is given that these coordinates will perfectly match other sources you may find.)_\n",
    "\n",
    "We can also compute the orbital parameters for Pluto, although you __should not include Pluto in your model of the solar system__ when answering the questions below; one of the questions deals with Pluto itself, so knowing its orbit may be useful.  I've also given you the orbits of two other objects of interest, the famous Halley's Comet and the interstellar visitor 'Oumuamua.\n",
    "\n",
    "| object | a (AU) | $\\epsilon$ | $\\omega$ (${}^{\\circ}$) | $\\phi_0$ (${}^{\\circ}$) |\n",
    "|--------|--------|------------|-------------------------|-------------------------|\n",
    "| Pluto  | 39.48211675 | 0.24882730 | 224.06891629 | 265.9093415 |\n",
    "| Halley's Comet | 17.834 | 0.96714 | 111.33 | --- |\n",
    "| 'Oumuamua | 0.25383 | 1.1956 | 241.43 | --- |"
   ]
  },
  {
   "cell_type": "markdown",
   "metadata": {
    "nbgrader": {
     "grade": false,
     "grade_id": "cell-2f1f2f0c55e1ce5b",
     "locked": true,
     "schema_version": 1,
     "solution": false
    }
   },
   "source": [
    "# Computational Strategy and Algorithms\n",
    "\n",
    "We have two separate models to keep track of.  For the model of the solar system, we calculate a numerical value for $d\\phi / dt$ for each planet.  Given a timestep $dt$, we can use the technique of [Lecture 18](https://physicscourses.colorado.edu/phys2600/phys2600_fa18/lecture/lec18-discrete-derivs/) to update the angular positions $\\phi$, and then compute $r(\\phi)$ from above.\n",
    "\n",
    "For the motion of the small mass itself, since we have a single second-order equation, we use the familiar trick of splitting it into two equations:\n",
    "\n",
    "$$\n",
    "\\mathbf{v} = \\frac{d\\mathbf{r}}{dt} \\\\\n",
    "\\frac{d\\mathbf{v}}{dt} = \\ddot{\\mathbf{r}} = (...)\n",
    "$$\n",
    "\n",
    "(Actually, it's six equations since $\\mathbf{r}$ and $\\mathbf{v}$ are both three-vectors, but it's the same trick.)  Then we use the methods of Lecture 18 to update both position and velocity for every time step $dt$.\n",
    "\n",
    "That's all we need for the basic functionality of this project!  The computational setup here is relatively simple for a single object - keeping track of many objects at once and doing data analysis on the outputs are where the difficulty lies..."
   ]
  },
  {
   "cell_type": "markdown",
   "metadata": {
    "nbgrader": {
     "grade": false,
     "grade_id": "cell-f0b4f46be5f2e8de",
     "locked": true,
     "schema_version": 1,
     "solution": false
    }
   },
   "source": [
    "# Application Programming Interface (API) specification\n",
    "\n",
    "__You must implement all of the below functions, according to the specifications given.__  I actually recommend _not_ using Unyt for the computationally intensive parts of this program: it will slow down the code significantly!  Instead, you should use Unyt to calculate the numerical values you need in a certain unit system, and then work with pure NumPy arrays from there.  I used \"kg-AU-s\" units, but you can choose what you like.\n",
    "\n",
    "A commonly-used tuple structure appearing in the API is the __planet__:\n",
    "\n",
    "```\n",
    "my_planet = (M, a, eps, phi, omega)\n",
    "```\n",
    "\n",
    "Here `M` is the mass of the planet, `phi` is the current angular position of the planet in our coordinates, and `a`, `eps` and `omega` are orbital parameters of the planet as described above.\n",
    "\n",
    "\n",
    "### Planets:\n",
    "\n",
    "* `get_planet_r(planet)`: Given a planet tuple, returns its current distance from the Sun $r(\\phi)$.\n",
    "* `get_planet_coords(planet)`: Given a planet tuple, returns its current three-dimensional Cartesian coordinates $(x,y,z)$.\n",
    "* `get_planet_orbit(planet, phi_linspace)`: Given a planet tuple and a NumPy array of phi values, returns a tuple of two arrays `(x_array, y_array)` containing the $x$ and $y$ coordinates of the planet at each phi value.  (This is useful for plotting orbits.)\n",
    "* `update_planet_position(planet, dt)`: Given a planet tuple and a timestep `dt`, returns a new planet tuple with the planet's position `phi` updated.\n",
    "* `update_all_planets(planets, dt)`: Given a list of planet tuples and a timestep `dt`, updates the positions of _all_ the planets, and returns them as a list.\n",
    "\n",
    "### Small mass:\n",
    "\n",
    "* `accel_g_sun(vec_r)`: Given a position three-vector `vec_r` = $(x,y,z)$, computes and returns the gravitational acceleration due to the Sun as a (NumPy) three-vector.\n",
    "* `accel_g_planet(vec_r, planet)`: Given a position three-vector `vec_r` and a planet tuple, computes and returns the gravitational acceleration due to that planet as a (NumPy) three-vector.\n",
    "* `update_position(vec_r, vec_v, planets, dt)`: Given the current position vector `vec_r` and velocity vector `vec_v`, a list of all planets, and a timestep `dt`, computes and returns updated position and velocity vectors `(vec_r_new, vec_v_new)` due to gravity from the planets and the Sun.\n",
    "\n",
    "### Other functions:\n",
    "\n",
    "* `get_planet_distances(vec_r, planets)`: Given a position vector `vec_r` and a list of planets, returns a NumPy array containing the distances from `vec_r` to each planet (in the same order as in `planets`).\n",
    "* `run_API_tests()`: A custom function that should use assertions to test the other functions implemented in the API.  If all tests are passed, the function should simply return the `None` object.  You should implement __at least six (6) tests__ inside this function on your own; additional tests will be provided after the checkpoint is due on Friday 12/7.\n",
    "\n",
    "## Main loop\n",
    "\n",
    "The below code implements the \"main loop\", finding the trajectory of a small object given its initial position `vec_r0`, initial velocity `vec_v0`, a list of all planet tuples to use (at their initial positions), and a NumPy linspace `t_steps` containing the full time range to simulate over, separated by the desired timestep `dt`.\n",
    "\n",
    "Once you have implemented the API above, add this code to your `gravity.py` module, then call it to run the simulation in your notebook!"
   ]
  },
  {
   "cell_type": "code",
   "execution_count": null,
   "metadata": {
    "nbgrader": {
     "grade": false,
     "grade_id": "cell-cc1f2e0d596a8276",
     "locked": true,
     "schema_version": 1,
     "solution": false
    }
   },
   "outputs": [],
   "source": [
    "def find_trajectory(vec_r0, vec_v0, planets, t_steps):\n",
    "    \"\"\"\n",
    "    Main loop for solar system gravitation project.\n",
    "    \n",
    "    Arguments:\n",
    "    =====\n",
    "    * vec_r0: Initial 3-vector position of the small mass (Cartesian coordinates.)  \n",
    "    * vec_v0: Initial 3-vector velocity of the small mass (Cartesian coordinates.)\n",
    "    * planets: a list of planet tuples, at their initial positions.\n",
    "        A planet tuple has the form:\n",
    "            (M, a, eps, phi, omega)\n",
    "        where M is the planet's mass, phi is the planet's angular position, \n",
    "        and a, eps, omega are orbital parameters.\n",
    "    * t_steps: NumPy array (linspace or arange) specifying the range of times to simulate\n",
    "        the trajectory over, regularly spaced by timestep dt.\n",
    "        \n",
    "    Returns:\n",
    "    =====\n",
    "    A tuple of the form (traj, planet_distance).\n",
    "    \n",
    "    \"traj\" contains the coordinates (x,y,z) of the test mass at each \n",
    "    corresponding time in t_steps, as a (3) x (Nt) array.\n",
    "    \"planet_distance\" contains the distances from the small mass\n",
    "    to each planet in planets, in order, as a function of time - this is a\n",
    "    (len(planets)) x (Nt) array.\n",
    "    \n",
    "    Example usage:  (using kg-AU-s units)\n",
    "    =====\n",
    "    >> import unyt as u\n",
    "    >> earth = (5.97219e24, 1.0, 0.01673163, 5.779905, 1.88570)\n",
    "    >> r0 = np.array([-0.224, 0.98, 0.0])  # AU\n",
    "    >> v0 = np.array([2e-9, 0.0, 0.0]) # AU/s \n",
    "    >> t = (np.arange(0, 4*365) * u.day).to_value('s')  # evolve for 4 years\n",
    "    >> traj, pd = find_trajectory(r0, v0, [earth], t)\n",
    "    \n",
    "    \"\"\"\n",
    "    \n",
    "    dt = t_steps[1] - t_steps[0]\n",
    "    Nt = len(t_steps)\n",
    "    \n",
    "    traj = np.zeros((3, Nt))\n",
    "    traj[:,0] = vec_r0\n",
    "    \n",
    "    planet_distance = np.zeros((len(planets), Nt))\n",
    "    planet_distance[:,0] = get_planet_distances(vec_r0, planets)\n",
    "    \n",
    "    vec_v = vec_v0\n",
    "    \n",
    "    for i in range(Nt-1):\n",
    "        (traj[:,i+1], vec_v) = update_position(traj[:,i], vec_v, planets, dt)        \n",
    "        planets = update_all_planets(planets, dt)\n",
    "        planet_distance[:,i+1] = get_planet_distances(traj[:,i+1], planets)\n",
    "        \n",
    "    return (traj, planet_distance)"
   ]
  }
 ],
 "metadata": {
  "celltoolbar": "Create Assignment",
  "kernelspec": {
   "display_name": "Python 3",
   "language": "python",
   "name": "python3"
  },
  "language_info": {
   "codemirror_mode": {
    "name": "ipython",
    "version": 3
   },
   "file_extension": ".py",
   "mimetype": "text/x-python",
   "name": "python",
   "nbconvert_exporter": "python",
   "pygments_lexer": "ipython3",
   "version": "3.7.4"
  }
 },
 "nbformat": 4,
 "nbformat_minor": 2
}
