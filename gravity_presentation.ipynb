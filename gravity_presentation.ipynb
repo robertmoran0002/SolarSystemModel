{
 "cells": [
  {
   "cell_type": "markdown",
   "metadata": {
    "nbgrader": {
     "grade": false,
     "grade_id": "cell-143e07fdb29fa8ab",
     "locked": true,
     "schema_version": 1,
     "solution": false
    }
   },
   "source": [
    "# Presentation Notebook - Final Project 2: `gravity`\n",
    "\n",
    "This notebook contains physics questions to be answered as part of the `gravity` final project - see companion assignment notebook for details."
   ]
  },
  {
   "cell_type": "markdown",
   "metadata": {
    "nbgrader": {
     "grade": false,
     "grade_id": "cell-95457f05ecd20e49",
     "locked": true,
     "schema_version": 1,
     "solution": false
    }
   },
   "source": [
    "---\n",
    "---\n",
    "---\n",
    "\n",
    "# Very Important Note:\n",
    "\n",
    "This is a __checkpoint version__ of the final project assignment.  You must submit your work in progress by __Friday, 12/7 at midnight__ to be graded as homework assignment 12.\n",
    "\n",
    "To submit this project for grading, __move the project folder, in its entirety, into a folder called `submit_check` at the top (root) level of your file directory.__  We will manually collect the submissions at the deadline, due to a flaw in nbgrader.  __Only put one project into the `submit_check` folder.__\n",
    "\n",
    "Your checkpoint submission will be graded on _effort_.  It is recommended that you focus on completing all functions in the API first: a solid implementation of the API will get you most of the way towards answering the physics questions at the end!\n",
    "\n",
    "__After the checkpoint__, the final project assignment will be updated to include automated tests for the API.  You'll be asked to provide some tests of your own as well.  Otherwise, the assignment will not change from what you see below (barring small revisions for typos or mistakes, if needed.)\n",
    "\n",
    "---\n",
    "---\n",
    "---"
   ]
  },
  {
   "cell_type": "markdown",
   "metadata": {
    "nbgrader": {
     "grade": false,
     "grade_id": "cell-9361ec810d67b07c",
     "locked": true,
     "schema_version": 1,
     "solution": false
    }
   },
   "source": [
    "## Honor Code Pledge\n",
    "\n",
    "Please type your name in the box below to agree to the Honor Code Pledge for this assignment:\n",
    "\n",
    "__\"On my honor, as a University of Colorado Boulder student, I have neither given nor received unauthorized assistance.\"__"
   ]
  },
  {
   "cell_type": "markdown",
   "metadata": {
    "nbgrader": {
     "grade": true,
     "grade_id": "cell-a257c56d54421841",
     "locked": false,
     "points": 20,
     "schema_version": 1,
     "solution": true
    }
   },
   "source": [
    "Robert Moran"
   ]
  },
  {
   "cell_type": "code",
   "execution_count": 69,
   "metadata": {},
   "outputs": [],
   "source": [
    "# Import cell\n",
    "\n",
    "from gravity import *"
   ]
  },
  {
   "cell_type": "markdown",
   "metadata": {
    "nbgrader": {
     "grade": false,
     "grade_id": "cell-32a242f48cb1212c",
     "locked": true,
     "schema_version": 1,
     "solution": false
    }
   },
   "source": [
    "# Physics Questions\n",
    "\n",
    "Add cells below as necessary to answer each of the physics questions.\n",
    "\n",
    "__Make sure your notebook runs with no errors by using the \"Restart & Run All\" command before you submit!__"
   ]
  },
  {
   "cell_type": "markdown",
   "metadata": {
    "nbgrader": {
     "grade": false,
     "grade_id": "cell-654b697fc5411f33",
     "locked": true,
     "schema_version": 1,
     "solution": false
    }
   },
   "source": [
    "### 1.  Testing planetary orbits\n",
    "\n",
    "First, check your model of the solar system.  Can you reproduce the length of a year for the planets, using the orbital model and `update_planet_position()`?  Halley's Comet has an orbital period of about 75 years; can you reproduce that, using the main loop?"
   ]
  },
  {
   "cell_type": "markdown",
   "metadata": {},
   "source": [
    "By implementing the Kepler equation\n",
    "\n",
    "$$\n",
    "r(\\phi) = \\frac{a (1 - \\epsilon^2)}{1+\\epsilon \\cos (\\phi - \\omega)}\n",
    "$$\n",
    "\n",
    "to determine the position of the planets and using the relation between the change in angle over the change in time\n",
    "\n",
    "$$\n",
    "\\frac{d\\phi}{dt} = \\frac{L_z}{\\mu r^2} \\approx \\frac{\\sqrt{GM_{\\odot} a (1 - \\epsilon^2)}}{r^2}\n",
    "$$\n",
    "\n",
    "I was able to recreate the length of a year for each of the 8 planets of our solar system."
   ]
  },
  {
   "cell_type": "code",
   "execution_count": 63,
   "metadata": {},
   "outputs": [
    {
     "name": "stdout",
     "output_type": "stream",
     "text": [
      "Change in phi after 88 Earth days for Mercury: -0.0881586019190796\n",
      "Change in phi after 225 Earth days for Venus: -0.019560509680297322\n",
      "Change in phi after 365 Earth days for Earth: -0.021474841594196548\n",
      "Change in phi after 687 Earth days for Mars: -0.010515937304922396\n",
      "Change in phi after 12 Earth years for Jupiter: 0.06077075321330039\n",
      "Change in phi after 29 Earth years for Saturn: -0.09516208891981304\n",
      "Change in phi after 84 Earth years for Uranus: -0.008167147454967716\n",
      "Change in phi after 165 Earth years for Neptune: -0.0006200194678016822\n"
     ]
    }
   ],
   "source": [
    "t = (np.arange(0, 1*88) * u.day).to_value('s')\n",
    "dt = t[1] - t[0]\n",
    "Nt = len(t)\n",
    "planet_position = [mercury]\n",
    "for i in range(Nt-1):\n",
    "    planet_position += (0,0,0,0,0),\n",
    "\n",
    "for i in range(Nt-1):\n",
    "    planet_position[i+1] = update_planet_position(planet_position[i], dt)\n",
    "print('Change in phi after 88 Earth days for Mercury:', planet_position[Nt-1][3] - 2*np.pi - planet_position[0][3])\n",
    "\n",
    "t = (np.arange(0, 1*225) * u.day).to_value('s')\n",
    "dt = t[1] - t[0]\n",
    "Nt = len(t)\n",
    "planet_position = [venus]\n",
    "for i in range(Nt-1):\n",
    "    planet_position += (0,0,0,0,0),\n",
    "\n",
    "for i in range(Nt-1):\n",
    "    planet_position[i+1] = update_planet_position(planet_position[i], dt)\n",
    "print('Change in phi after 225 Earth days for Venus:', planet_position[Nt-1][3] - 2*np.pi - planet_position[0][3])\n",
    "\n",
    "t = (np.arange(0, 1*365) * u.day).to_value('s')\n",
    "dt = t[1] - t[0]\n",
    "Nt = len(t)\n",
    "planet_position = [earth]\n",
    "for i in range(Nt-1):\n",
    "    planet_position += (0,0,0,0,0),\n",
    "\n",
    "for i in range(Nt-1):\n",
    "    planet_position[i+1] = update_planet_position(planet_position[i], dt)\n",
    "print('Change in phi after 365 Earth days for Earth:', planet_position[Nt-1][3] - 2*np.pi - planet_position[0][3])\n",
    "\n",
    "t = (np.arange(0, 1*687) * u.day).to_value('s')\n",
    "dt = t[1] - t[0]\n",
    "Nt = len(t)\n",
    "planet_position = [mars]\n",
    "for i in range(Nt-1):\n",
    "    planet_position += (0,0,0,0,0),\n",
    "\n",
    "for i in range(Nt-1):\n",
    "    planet_position[i+1] = update_planet_position(planet_position[i], dt)\n",
    "print('Change in phi after 687 Earth days for Mars:', planet_position[Nt-1][3] - 2*np.pi - planet_position[0][3])\n",
    "\n",
    "t = (np.arange(0, 12*365) * u.day).to_value('s')\n",
    "dt = t[1] - t[0]\n",
    "Nt = len(t)\n",
    "planet_position = [jupiter]\n",
    "for i in range(Nt-1):\n",
    "    planet_position += (0,0,0,0,0),\n",
    "\n",
    "for i in range(Nt-1):\n",
    "    planet_position[i+1] = update_planet_position(planet_position[i], dt)\n",
    "print('Change in phi after 12 Earth years for Jupiter:', planet_position[Nt-1][3] - 2*np.pi - planet_position[0][3])\n",
    "\n",
    "t = (np.arange(0, 29*365) * u.day).to_value('s')\n",
    "dt = t[1] - t[0]\n",
    "Nt = len(t)\n",
    "planet_position = [saturn]\n",
    "for i in range(Nt-1):\n",
    "    planet_position += (0,0,0,0,0),\n",
    "\n",
    "for i in range(Nt-1):\n",
    "    planet_position[i+1] = update_planet_position(planet_position[i], dt)\n",
    "print('Change in phi after 29 Earth years for Saturn:', planet_position[Nt-1][3] - 2*np.pi - planet_position[0][3])\n",
    "\n",
    "t = (np.arange(0, 84*365) * u.day).to_value('s')\n",
    "dt = t[1] - t[0]\n",
    "Nt = len(t)\n",
    "planet_position = [uranus]\n",
    "for i in range(Nt-1):\n",
    "    planet_position += (0,0,0,0,0),\n",
    "\n",
    "for i in range(Nt-1):\n",
    "    planet_position[i+1] = update_planet_position(planet_position[i], dt)\n",
    "print('Change in phi after 84 Earth years for Uranus:', planet_position[Nt-1][3] - 2*np.pi - planet_position[0][3])\n",
    "\n",
    "t = (np.arange(0, 165*365) * u.day).to_value('s')\n",
    "dt = t[1] - t[0]\n",
    "Nt = len(t)\n",
    "planet_position = [neptune]\n",
    "for i in range(Nt-1):\n",
    "    planet_position += (0,0,0,0,0),\n",
    "\n",
    "for i in range(Nt-1):\n",
    "    planet_position[i+1] = update_planet_position(planet_position[i], dt)\n",
    "print('Change in phi after 165 Earth years for Neptune:', planet_position[Nt-1][3] - 2*np.pi - planet_position[0][3])"
   ]
  },
  {
   "cell_type": "markdown",
   "metadata": {},
   "source": [
    "For each planet in the solar system, I have simulated their orbits using their known time spans. In each, we can see that the $\\phi$ value changes little for a complete orbit for this simulation."
   ]
  },
  {
   "cell_type": "markdown",
   "metadata": {},
   "source": [
    "To determine the initial velocity for Pluto and Halley's comet from the given data, I used the relation\n",
    "\n",
    "$$\n",
    "\\vec{v} = r\\dot\\phi\\hat{\\phi}\n",
    "$$\n",
    "\n",
    "Using the given equations, this becomes\n",
    "\n",
    "$$\n",
    "\\frac{a (1 - \\epsilon^2)}{1+\\epsilon \\cos (\\phi - \\omega)} \\frac{\\sqrt{GM_{\\odot} a (1 - \\epsilon^2)}}{r^2}(-\\sin (\\phi)\\hat{x} + \\cos (\\phi)\\hat{y})\n",
    "$$"
   ]
  },
  {
   "cell_type": "markdown",
   "metadata": {},
   "source": [
    "Unfortunately, I was unable to correctly recreate the orbital period for Halley's comet. It is likely that my implementation of `update_position()` is incorrect. This was the closest I was able to recreate Halley's orbit by adjusting the initial velocity."
   ]
  },
  {
   "cell_type": "code",
   "execution_count": 64,
   "metadata": {},
   "outputs": [
    {
     "data": {
      "text/plain": [
       "[<matplotlib.lines.Line2D at 0x7f548f19fa90>]"
      ]
     },
     "execution_count": 64,
     "metadata": {},
     "output_type": "execute_result"
    },
    {
     "data": {
      "image/png": "[encoded data removed]",
      "text/plain": [
       "<Figure size 432x288 with 1 Axes>"
      ]
     },
     "metadata": {},
     "output_type": "display_data"
    }
   ],
   "source": [
    "hvel_vec = velocity(halley)\n",
    "hvel_vec[0] = 30870\n",
    "hpos_vec = get_planet_coords(halley)\n",
    "t = (np.arange(0, 75*365) * u.day).to_value('s')\n",
    "a,b = find_trajectory(hpos_vec, hvel_vec, [earth], t)\n",
    "plt.plot(a[0],a[1])"
   ]
  },
  {
   "cell_type": "markdown",
   "metadata": {
    "nbgrader": {
     "grade": false,
     "grade_id": "cell-403ceee6eee7f4da",
     "locked": true,
     "schema_version": 1,
     "solution": false
    }
   },
   "source": [
    "### 2. Stability of Pluto's orbit\n",
    "\n",
    "Treat Pluto as a test mass; show that you can recover an elliptical orbit for Pluto using the main simulation loop (you can find an initial position and velocity from the orbital parameters given.)  How sensitive is the orbit of Pluto to the initial conditions (position and speed)?  More specifically, how much do you have to change the initial position or initial speed to destabilize Pluto's orbit and send it flying out of the Solar System?"
   ]
  },
  {
   "cell_type": "markdown",
   "metadata": {},
   "source": [
    "As with Halley's comet, my flawed implementation does not recover Pluto's orbit."
   ]
  },
  {
   "cell_type": "code",
   "execution_count": 68,
   "metadata": {},
   "outputs": [
    {
     "data": {
      "text/plain": [
       "[<matplotlib.lines.Line2D at 0x7f548eeed3c8>]"
      ]
     },
     "execution_count": 68,
     "metadata": {},
     "output_type": "execute_result"
    },
    {
     "data": {
      "image/png": "[encoded data removed]",
      "text/plain": [
       "<Figure size 432x288 with 1 Axes>"
      ]
     },
     "metadata": {},
     "output_type": "display_data"
    }
   ],
   "source": [
    "pvel_vec = velocity(pluto)\n",
    "#pvel_vec[0] = pvel\n",
    "ppos_vec = get_planet_coords(pluto)\n",
    "t = (np.arange(0, 248*365) * u.day).to_value('s')\n",
    "a,b = find_trajectory(ppos_vec, pvel_vec, [earth], t)\n",
    "plt.plot(a[0],a[1])"
   ]
  },
  {
   "cell_type": "markdown",
   "metadata": {},
   "source": [
    "If the correct implementation behaves at all like mine, then relatively small adjustments (such as 1 km/s) will be enough to send Pluto out of the solar system."
   ]
  },
  {
   "cell_type": "markdown",
   "metadata": {
    "nbgrader": {
     "grade": false,
     "grade_id": "cell-489d4fffab529961",
     "locked": true,
     "schema_version": 1,
     "solution": false
    }
   },
   "source": [
    "### 3. Closest approach: 'Oumuamua and comets\n",
    "\n",
    "The first officially recorded interstellar object seen in our solar system is 1I/2017 U1, also known as ['Oumuamua](https://en.wikipedia.org/wiki/ʻOumuamua).  Using the orbital parameters provided above to find an initial position/speed, use your simulation to compute the motion of 'Oumuamua through our solar system.  What was its distance of closest approach to each of the four inner planets (Mercury through Mars)?\n",
    "\n",
    "The Oort cloud, surrounding our solar system, is full of comets which occasionally pass near the Sun and inner planets.  The file `comets.csv` contains data on 200 hypothetical comets, traveling towards the sun at an initial distance of 30-40 AU and initial speeds of around 6-7 km/s.  Each line contains the initial parameters for one comet, in our coordinates, in the following comma-separated format:\n",
    "\n",
    "```\n",
    "(comet #),(x0),(y0),(z0),(vx_0),(vy_0),(vz_0)\n",
    "```\n",
    "\n",
    "For each comet, find and record any __close approach__ to any of the eight planets over the next 40 years of its orbit, defining a close approach to be passing within 0.1 AU of any planet. (This isn't _that_ close: for reference, the Moon is only about 0.003 AU from the Earth.  But the cost of simulation increases rapidly as we make the timestep small enough to resolve small fractions of an AU!)"
   ]
  },
  {
   "cell_type": "markdown",
   "metadata": {},
   "source": [
    "Once again, my implementation of `update_position()` does not produce the correct answer."
   ]
  },
  {
   "cell_type": "code",
   "execution_count": null,
   "metadata": {},
   "outputs": [],
   "source": [
    "comets_data = open('comets.csv')\n",
    "def parse_line_csv(line):\n",
    "    \"\"\"\n",
    "    Parses through .csv file to remove artifacts and convert everything to float values.\n",
    "    \"\"\"\n",
    "    strip_line = line.strip()\n",
    "    line_list = strip_line.split(',')\n",
    "    number_list = []\n",
    "    for x in line_list:\n",
    "        number_list.append(float(x))\n",
    "        \n",
    "    return number_list\n",
    "\n",
    "comets = []\n",
    "for i in comets_data:\n",
    "    comets += parse_line_csv(i),\n",
    "comets = np.array(comets)\n",
    "\n",
    "comet_vecs = []\n",
    "comet_vels = []\n",
    "for i in comets:\n",
    "    comet_vecs += [i[1] * 1.496e11, i[2] * 1.496e11, i[3] * 1.496e11],\n",
    "    comet_vels += [i[4]*1000, i[5]*1000, i[6]*1000],\n",
    "    \n",
    "t = (np.arange(0, 40*365) * u.day).to_value('s')  # evolve for 40 years\n",
    "comet_trajectories = []\n",
    "comet_to_planet_distances = []\n",
    "for i,n in zip(comet_vecs, comet_vels):\n",
    "    ct, ctpd = find_trajectory(i, n, planets, t)\n",
    "    comet_trajectories += [ct],\n",
    "    comet_to_planet_distances += ctpd,\n",
    "    \n",
    "testing = np.array(comet_to_planet_distances)\n",
    "c = 0\n",
    "comet_numbers = []\n",
    "for i in testing:\n",
    "    if i[0][0].any() <= 0.1e24:\n",
    "        comet_numbers += c,\n",
    "        c+= 1\n",
    "        \n",
    "print(comet_numbers)"
   ]
  },
  {
   "cell_type": "markdown",
   "metadata": {},
   "source": [
    "According to my code, all of the comets come within 0.1 AU of a planet in the 40 year time span."
   ]
  },
  {
   "cell_type": "markdown",
   "metadata": {
    "nbgrader": {
     "grade": false,
     "grade_id": "cell-0947c7f3cf39c562",
     "locked": true,
     "schema_version": 1,
     "solution": false
    }
   },
   "source": [
    "### 4. [Extra-credit challenge!] Simulating the Trojan asteroids\n",
    "\n",
    "Between two massive bodies, there exist points of equilibrium called __Lagrange points__ where the forces of gravity balance, and a third small object can remain in position.  There are five such points, some of which are stable to small perturbations.  The Lagrange point L4 of Jupiter famously has a large collection of asteroids, the __Trojan asteroids__.\n",
    "\n",
    "Using your simulation, find a stable \"orbit\" for an object around Jupiter's L4 Lagrange point.  Your orbit should be stable over a timescale of 100 years, and the object has to be in motion relative to the Lagrange point.  (Of course, your first task is just to _find_ the Lagrange point, so starting with objects at rest might be helpful.)"
   ]
  }
 ],
 "metadata": {
  "celltoolbar": "Create Assignment",
  "kernelspec": {
   "display_name": "Python 3",
   "language": "python",
   "name": "python3"
  },
  "language_info": {
   "codemirror_mode": {
    "name": "ipython",
    "version": 3
   },
   "file_extension": ".py",
   "mimetype": "text/x-python",
   "name": "python",
   "nbconvert_exporter": "python",
   "pygments_lexer": "ipython3",
   "version": "3.6.5"
  }
 },
 "nbformat": 4,
 "nbformat_minor": 2
}
